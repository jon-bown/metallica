{
 "cells": [
  {
   "attachments": {},
   "cell_type": "markdown",
   "metadata": {},
   "source": [
    "# Metallica Spofity Track Data\n",
    "\n",
    "This notebook uses a python package called 'spotipy' to hook up to the Spotify API and construct track specific attributes. API credentials CLIENT_ID, CLIENT_SECRET are not provided in code. They must be replaced with user spotify credentials using a config.py file."
   ]
  },
  {
   "cell_type": "code",
   "execution_count": 13,
   "metadata": {},
   "outputs": [],
   "source": [
    "import numpy as np\n",
    "import pandas as pd\n",
    "import spotipy\n",
    "from spotipy.oauth2 import SpotifyClientCredentials\n",
    "import config"
   ]
  },
  {
   "cell_type": "code",
   "execution_count": 14,
   "metadata": {},
   "outputs": [],
   "source": [
    "#Spotify Authentication - without user\n",
    "client_credentials_manager = SpotifyClientCredentials(client_id=config.CLIENT_ID, client_secret=config.CLIENT_SECRET)\n",
    "sp = spotipy.Spotify(client_credentials_manager = client_credentials_manager)"
   ]
  },
  {
   "cell_type": "code",
   "execution_count": 15,
   "metadata": {},
   "outputs": [],
   "source": [
    "#initialize dataframes\n",
    "met_data = []"
   ]
  },
  {
   "cell_type": "code",
   "execution_count": 16,
   "metadata": {},
   "outputs": [],
   "source": [
    "#Get UNIQUE ALBUMS\n",
    "met_uri = 'spotify:artist:2ye2Wgw4gimLv2eAKyk1NB'\n",
    "\n",
    "results = sp.artist_albums(met_uri, album_type='album')\n",
    "albums = results['items']\n",
    "while results['next']:\n",
    "    results = sp.next(results)\n",
    "    albums.extend(results['items'])\n",
    "\n",
    "names = []\n",
    "album_ids = []\n",
    "for album in albums:\n",
    "    name = album['name'].lower()\n",
    "    if name not in names:\n",
    "        names.append(name)\n",
    "        album_ids.append(album['id'])"
   ]
  },
  {
   "cell_type": "code",
   "execution_count": 17,
   "metadata": {},
   "outputs": [],
   "source": [
    "#Construct track specific data\n",
    "for album_id in album_ids:\n",
    "    results = sp.album_tracks(album_id)\n",
    "    album_info = sp.album(album_id)\n",
    "    tracks = results['items']\n",
    "    while results['next']:\n",
    "        results = sp.next(results)\n",
    "        tracks.extend(results['items'])\n",
    "    track_ids = []\n",
    "    for track in tracks:\n",
    "        track_row = {}\n",
    "        track_row['spotify_id'] = track['id']\n",
    "        track_row['spotify_uri'] = track['uri']\n",
    "        track_row['album'] = album_info['name']\n",
    "        track_row['name'] = track['name']\n",
    "        track_row['release_date'] = album_info['release_date']\n",
    "        track_row['track_number'] = track['track_number']\n",
    "        try:\n",
    "            popularity = sp.track(track['id'])['popularity']\n",
    "            track_row['popularity'] = popularity\n",
    "        except:\n",
    "            popularity = float('nan')\n",
    "        track_ids.append(track['id'])\n",
    "        features = sp.audio_features(track['id'])[0]\n",
    "        track_row['danceability'] = features['danceability']\n",
    "        track_row['energy'] = features['energy']\n",
    "        track_row['key'] = features['key']\n",
    "        track_row['loudness'] = features['loudness']\n",
    "        track_row['mode'] = features['mode']\n",
    "        track_row['speechiness'] = features['speechiness']\n",
    "        track_row['acousticness'] = features['acousticness']\n",
    "        track_row['instrumentalness'] = features['instrumentalness']\n",
    "        track_row['liveness'] = features['liveness']\n",
    "        track_row['valence'] = features['valence']\n",
    "        track_row['tempo'] = features['tempo']\n",
    "        track_row['duration_ms'] = features['duration_ms']\n",
    "        track_row['time_signature'] = features['time_signature']\n",
    "        met_data.append(track_row)"
   ]
  },
  {
   "cell_type": "code",
   "execution_count": 18,
   "metadata": {},
   "outputs": [],
   "source": [
    "cols = ['spotify_id', 'spotify_uri', 'album', 'name', 'popularity', 'release_date', 'track_number', 'danceability', 'energy',\n",
    "       'key', 'loudness', 'mode', 'speechiness', 'acousticness', 'instrumentalness', 'liveness',\n",
    "       'valence', 'tempo', 'duration_ms', 'time_signature']\n",
    "metallica_data = pd.DataFrame(met_data, columns = cols)         "
   ]
  },
  {
   "cell_type": "code",
   "execution_count": 9,
   "metadata": {},
   "outputs": [],
   "source": [
    "metallica_data.to_csv('metallica_songs.csv', index=False)"
   ]
  },
  {
   "cell_type": "code",
   "execution_count": 21,
   "metadata": {},
   "outputs": [
    {
     "data": {
      "text/plain": [
       "spotify_id           object\n",
       "spotify_uri          object\n",
       "album                object\n",
       "name                 object\n",
       "popularity            int64\n",
       "release_date         object\n",
       "track_number          int64\n",
       "danceability        float64\n",
       "energy              float64\n",
       "key                   int64\n",
       "loudness            float64\n",
       "mode                  int64\n",
       "speechiness         float64\n",
       "acousticness        float64\n",
       "instrumentalness    float64\n",
       "liveness            float64\n",
       "valence             float64\n",
       "tempo               float64\n",
       "duration_ms           int64\n",
       "time_signature        int64\n",
       "dtype: object"
      ]
     },
     "execution_count": 21,
     "metadata": {},
     "output_type": "execute_result"
    }
   ],
   "source": [
    "metallica_data.dtypes"
   ]
  }
 ],
 "metadata": {
  "kernelspec": {
   "display_name": "base",
   "language": "python",
   "name": "python3"
  },
  "language_info": {
   "codemirror_mode": {
    "name": "ipython",
    "version": 3
   },
   "file_extension": ".py",
   "mimetype": "text/x-python",
   "name": "python",
   "nbconvert_exporter": "python",
   "pygments_lexer": "ipython3",
   "version": "3.8.13"
  },
  "orig_nbformat": 4
 },
 "nbformat": 4,
 "nbformat_minor": 2
}
